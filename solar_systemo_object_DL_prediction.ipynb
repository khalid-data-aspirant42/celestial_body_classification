{
  "cells": [
    {
      "cell_type": "code",
      "execution_count": 12,
      "metadata": {
        "id": "tkylUkrU5HgZ"
      },
      "outputs": [],
      "source": [
        "import pandas as pd\n",
        "import numpy as np\n",
        "import tensorflow as tf\n",
        "from tensorflow.keras.models import Sequential\n",
        "from tensorflow.keras.layers import Dense\n",
        "from sklearn.model_selection import train_test_split\n",
        "from sklearn.preprocessing import LabelEncoder, StandardScaler"
      ]
    },
    {
      "cell_type": "code",
      "execution_count": 13,
      "metadata": {
        "id": "cbdLFEKr5Hgy"
      },
      "outputs": [],
      "source": [
        "# Creating the dataset\n",
        "def generate_dummy_data(num_asteroids, num_comets, ast_min, ast_max):\n",
        "    # Generate dummy data for asteroids\n",
        "    asteroid_names = ['Asteroid{}'.format(i) for i in range(1, num_asteroids + 1)]\n",
        "    asteroids = pd.DataFrame({\n",
        "        'Name': np.random.choice(asteroid_names, size=num_asteroids, replace=False),\n",
        "        'Diameter (km)': np.random.uniform(ast_dia_min, ast_dia_max, size=num_asteroids),\n",
        "        'Period of Revolution (years)': np.random.uniform(ast_min, ast_max, size=num_asteroids),\n",
        "        'Mass (MTonne)': np.random.uniform(ast_mass_min, ast_mass_max, size=num_asteroids),\n",
        "        'Max Distance from Sun (AU)': np.random.uniform(max_range_min, max_range_max, size=num_asteroids),\n",
        "        'Min Distance from Sun (AU)': np.random.uniform(min_range_min, min_range_max, size=num_asteroids),\n",
        "        'Type': ['Asteroid'] * num_asteroids\n",
        "    })\n",
        "\n",
        "    # Generate dummy data for comets\n",
        "    comet_names = ['Comet{}'.format(i) for i in range(1, num_comets + 1)]\n",
        "    comets = pd.DataFrame({\n",
        "        'Name': np.random.choice(comet_names, size=num_comets, replace=False),\n",
        "        'Diameter (km)': np.random.uniform(com_dia_min, com_dia_max, size=num_comets),\n",
        "        'Period of Revolution (years)': np.random.uniform(com_range_min, com_range_max, size=num_comets),\n",
        "        'Mass (MTonne)': np.random.uniform(com_mass_min, com_mass_max, size=num_comets),\n",
        "        'Max Distance from Sun (AU)': np.random.uniform(max_range_min, max_range_max, size=num_comets),\n",
        "        'Min Distance from Sun (AU)': np.random.uniform(min_range_min, min_range_max, size=num_comets),\n",
        "        'Type': ['Comet'] * num_comets\n",
        "    })\n",
        "\n",
        "    planets = pd.DataFrame({\n",
        "    'Name': ['Mercury', 'Venus', 'Earth', 'Mars', 'Jupiter', 'Saturn', 'Uranus', 'Neptune'],\n",
        "    'Diameter (km)': [4879, 12104, 12756, 6792, 139820, 116460, 50724, 49244],\n",
        "    'Period of Revolution (years)': [0.24, 0.62, 1, 1.88, 11.86, 29.46, 84.01, 164.8],\n",
        "    'Mass (MTonne)': [3.30e14, 4.87e15, 5.97e15, 6.42e14, 1.90e18, 5.68e17, 8.68e16, 1.02e17],\n",
        "    'Max Distance from Sun (AU)': [0.47, 0.73, 1.02, 1.67, 5.46, 10.12, 20.08, 30.07],\n",
        "    'Min Distance from Sun (AU)': [0.31, 0.71, 0.98, 1.38, 4.95, 9.01, 18.33, 29.81],\n",
        "    'Type': ['Planet', 'Planet', 'Planet', 'Planet', 'Planet', 'Planet', 'Planet', 'Planet']})\n",
        "\n",
        "    # Concatenate the dataframes into a single dataset\n",
        "    df = pd.concat([asteroids, comets, planets])\n",
        "\n",
        "    # Reset the index of the final dataset\n",
        "    df.reset_index(drop=True, inplace=True)\n",
        "\n",
        "    return df\n",
        "\n",
        "# generate object names\n",
        "import random\n",
        "\n",
        "names_asteroid = ['Apollos', 'Amors', 'Atens', 'Hungarias', 'Mars Crossers', 'Ceres','Vesta','Pallas','Eros','Apophis']\n",
        "names_comet = ['Halley', 'Hale-Bopp', 'Encke', 'McNaught', 'Ikeya-Zhang','Hyakutake','Borrelly','Chiron','Holmes','Bennett']\n",
        "\n",
        "def generate_object_names(num_names, object_list):\n",
        "    names = []\n",
        "    for _ in range(num_names):\n",
        "        name = ''\n",
        "        # Generate a random number of name components (2-4) for each name\n",
        "        num_components = random.randint(2, 4)\n",
        "\n",
        "        for _ in range(num_components):\n",
        "            # Generate a random name component (e.g., first name, middle name, last name)\n",
        "            name_component = random.choice(object_list)\n",
        "            name += name_component + ' '\n",
        "\n",
        "        names.append(name.strip())\n",
        "\n",
        "    return names\n",
        "\n",
        "# Example usage\n",
        "num_asteroids, num_comets = 500, 450\n",
        "\n",
        "com_range_min, com_range_max = 3.3, 330\n",
        "com_dia_min, com_dia_max = 5, 70\n",
        "com_mass_min, com_mass_max = 1e04, 5e05\n",
        "ast_mass_min, ast_mass_max = 1e02, 7e08\n",
        "max_range_min, max_range_max = 400, 960\n",
        "min_range_min, min_range_max = 0.35 , 100\n",
        "ast_min, ast_max = 3, 6\n",
        "ast_dia_min, ast_dia_max = 0.1, 530\n",
        "\n",
        "asteroid_names = generate_object_names(num_asteroids , names_asteroid)\n",
        "comet_names = generate_object_names(num_comets , names_comet)\n",
        "\n",
        "df = generate_dummy_data(num_asteroids, num_comets, ast_min, ast_max)\n",
        "\n",
        "# Replace the generic names with actual names\n",
        "df.loc[df['Type'] == 'Asteroid', 'Name'] = np.random.choice(asteroid_names, size=num_asteroids, replace=False)\n",
        "df.loc[df['Type'] == 'Comet', 'Name'] = np.random.choice(comet_names, size=num_comets, replace=False)\n"
      ]
    },
    {
      "cell_type": "code",
      "execution_count": 14,
      "metadata": {
        "id": "f4UuSt_K5HhL"
      },
      "outputs": [],
      "source": [
        "# Map labels to numeric values\n",
        "type_mapping = {'Asteroid': 0, 'Comet': 1, 'Planet': 2}\n",
        "df['Type_label'] = df['Type'].map(type_mapping)\n",
        "\n",
        "# Split the dataset into features and labels\n",
        "features = df.drop(['Name', 'Type', 'Type_label'], axis=1).values\n",
        "labels = df['Type_label'].values\n",
        "\n",
        "# Convert the labels to categorical\n",
        "num_classes = len(set(labels))\n",
        "labels = tf.keras.utils.to_categorical(labels, num_classes)\n",
        "\n",
        "# Split the data into training and testing sets\n",
        "train_features, test_features, train_labels, test_labels = train_test_split(\n",
        "    features, labels, test_size=0.2, random_state=42)\n",
        "\n",
        "# Scale the features using StandardScaler\n",
        "scaler = StandardScaler()\n",
        "train_features = scaler.fit_transform(train_features)\n",
        "test_features = scaler.transform(test_features)"
      ]
    },
    {
      "cell_type": "code",
      "execution_count": 15,
      "metadata": {
        "colab": {
          "base_uri": "https://localhost:8080/"
        },
        "id": "uxesykgI5HhS",
        "outputId": "bf338af1-ca29-4e55-e3f0-84eb2705c479"
      },
      "outputs": [
        {
          "output_type": "execute_result",
          "data": {
            "text/plain": [
              "((766, 5), (192, 5), (766, 3), (192, 3))"
            ]
          },
          "metadata": {},
          "execution_count": 15
        }
      ],
      "source": [
        "train_features.shape, test_features.shape, train_labels.shape, test_labels.shape"
      ]
    },
    {
      "cell_type": "code",
      "execution_count": 16,
      "metadata": {
        "colab": {
          "base_uri": "https://localhost:8080/"
        },
        "id": "ckUrC3_M5Hhb",
        "outputId": "60fe461f-77f5-449d-9ad9-41df7fa59ed9"
      },
      "outputs": [
        {
          "output_type": "stream",
          "name": "stdout",
          "text": [
            "Epoch 1/10\n",
            "766/766 [==============================] - 2s 2ms/step - loss: 0.3880 - accuracy: 0.8982\n",
            "Epoch 2/10\n",
            "766/766 [==============================] - 2s 2ms/step - loss: 0.1250 - accuracy: 0.9648\n",
            "Epoch 3/10\n",
            "766/766 [==============================] - 2s 2ms/step - loss: 0.0850 - accuracy: 0.9765\n",
            "Epoch 4/10\n",
            "766/766 [==============================] - 1s 2ms/step - loss: 0.0701 - accuracy: 0.9804\n",
            "Epoch 5/10\n",
            "766/766 [==============================] - 1s 2ms/step - loss: 0.0625 - accuracy: 0.9830\n",
            "Epoch 6/10\n",
            "766/766 [==============================] - 1s 2ms/step - loss: 0.0555 - accuracy: 0.9830\n",
            "Epoch 7/10\n",
            "766/766 [==============================] - 1s 2ms/step - loss: 0.0523 - accuracy: 0.9856\n",
            "Epoch 8/10\n",
            "766/766 [==============================] - 1s 2ms/step - loss: 0.0457 - accuracy: 0.9883\n",
            "Epoch 9/10\n",
            "766/766 [==============================] - 1s 2ms/step - loss: 0.0403 - accuracy: 0.9883\n",
            "Epoch 10/10\n",
            "766/766 [==============================] - 1s 2ms/step - loss: 0.0437 - accuracy: 0.9856\n"
          ]
        },
        {
          "output_type": "execute_result",
          "data": {
            "text/plain": [
              "<keras.callbacks.History at 0x7fc44079e620>"
            ]
          },
          "metadata": {},
          "execution_count": 16
        }
      ],
      "source": [
        "# Create a sequential model\n",
        "model = Sequential()\n",
        "model.add(Dense(81, activation='relu', input_shape=(train_features.shape[1],)))\n",
        "model.add(Dense(9, activation='relu'))\n",
        "model.add(Dense(num_classes, activation='softmax'))\n",
        "\n",
        "# Compile the model\n",
        "model.compile(loss='categorical_crossentropy', optimizer='adam', metrics=['accuracy'])\n",
        "\n",
        "# Train the model\n",
        "model.fit(train_features, train_labels, epochs=10, batch_size=1)"
      ]
    },
    {
      "cell_type": "code",
      "source": [
        "# Evaluate the model on the test set\n",
        "loss, accuracy = model.evaluate(test_features, test_labels)\n",
        "print(f'Test loss: {loss}')\n",
        "print(f'Test accuracy: {accuracy}')"
      ],
      "metadata": {
        "colab": {
          "base_uri": "https://localhost:8080/"
        },
        "id": "kVx2aO_r6wZn",
        "outputId": "5b9cebc8-8828-4ada-82b5-34acd6891c36"
      },
      "execution_count": 27,
      "outputs": [
        {
          "output_type": "stream",
          "name": "stdout",
          "text": [
            "6/6 [==============================] - 0s 3ms/step - loss: 0.0599 - accuracy: 0.9844\n",
            "Test loss: 0.05985721945762634\n",
            "Test accuracy: 0.984375\n"
          ]
        }
      ]
    },
    {
      "cell_type": "code",
      "execution_count": 30,
      "metadata": {
        "colab": {
          "base_uri": "https://localhost:8080/"
        },
        "id": "Zw5q27oO5Hhe",
        "outputId": "942c6fc4-fd28-4f96-8948-fdb289d74105"
      },
      "outputs": [
        {
          "output_type": "stream",
          "name": "stdout",
          "text": [
            "[-0.03871520410693967, -0.7174384141494999, -0.03814274769375168, 1.0204558062665319, -1.2647759202349316]\n",
            "1/1 [==============================] - 0s 50ms/step\n",
            "Asteroid\n"
          ]
        }
      ],
      "source": [
        "# taking random label from the dataset\n",
        "\n",
        "n = np.random.randint(low=0, high=52)\n",
        "\n",
        "# respective feature value array converted into list\n",
        "x_list = list(test_features[n])\n",
        "print(x_list)\n",
        "# prediction is performed with the model and shape of galaxy is displayed\n",
        "predict = model.predict([x_list])\n",
        "predict\n",
        "val_list = []\n",
        "for n in range(3):\n",
        "    val_list.append(predict[0][n])\n",
        "\n",
        "target = np.max(val_list)\n",
        "tolerance = 1e-6\n",
        "\n",
        "index = None\n",
        "for i, val in enumerate(val_list):\n",
        "    if abs(val - target) < tolerance:\n",
        "        index = i\n",
        "        break\n",
        "\n",
        "\n",
        "if index ==0:\n",
        "    print('Asteroid')\n",
        "elif index==1:\n",
        "    print('Comet')\n",
        "else:\n",
        "    print(\"Planet\")\n"
      ]
    },
    {
      "cell_type": "markdown",
      "metadata": {
        "id": "rIuN6v1O5Hhm"
      },
      "source": [
        "### Conclusion: a deep learning predictive model is developed with more than 98% accuracy which can predict the type of celestial object based on its properties.\n",
        "#### A better model can be developed if we get real data instead of dummy data."
      ]
    }
  ],
  "metadata": {
    "kernelspec": {
      "display_name": "Python 3",
      "language": "python",
      "name": "python3"
    },
    "language_info": {
      "codemirror_mode": {
        "name": "ipython",
        "version": 3
      },
      "file_extension": ".py",
      "mimetype": "text/x-python",
      "name": "python",
      "nbconvert_exporter": "python",
      "pygments_lexer": "ipython3",
      "version": "3.11.2"
    },
    "orig_nbformat": 4,
    "vscode": {
      "interpreter": {
        "hash": "5238573367df39f7286bb46f9ff5f08f63a01a80960060ce41e3c79b190280fa"
      }
    },
    "colab": {
      "provenance": []
    }
  },
  "nbformat": 4,
  "nbformat_minor": 0
}